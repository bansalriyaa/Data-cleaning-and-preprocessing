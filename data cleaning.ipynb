{
 "cells": [
  {
   "cell_type": "code",
   "execution_count": 23,
   "id": "f683c876",
   "metadata": {},
   "outputs": [],
   "source": [
    "import pandas as pd\n",
    "import numpy as np\n",
    "from scipy.stats import zscore"
   ]
  },
  {
   "cell_type": "code",
   "execution_count": 24,
   "id": "1196566e",
   "metadata": {},
   "outputs": [],
   "source": [
    "# Loading dataset\n",
    "df = pd.read_csv('C:/Users/DELL/Desktop/dataset.csv')"
   ]
  },
  {
   "cell_type": "code",
   "execution_count": 25,
   "id": "0b155ca9",
   "metadata": {
    "scrolled": true
   },
   "outputs": [
    {
     "name": "stdout",
     "output_type": "stream",
     "text": [
      "Observation         0\n",
      "Y-Kappa             0\n",
      "ChipRate            5\n",
      "BF-CMratio         17\n",
      "BlowFlow           16\n",
      "ChipLevel4          1\n",
      "T-upperExt-2        2\n",
      "T-lowerExt-2        2\n",
      "UCZAA              25\n",
      "WhiteFlow-4         1\n",
      "AAWhiteSt-4       151\n",
      "AA-Wood-4           1\n",
      "ChipMoisture-4      1\n",
      "SteamFlow-4         1\n",
      "Lower-HeatT-3       2\n",
      "Upper-HeatT-3       2\n",
      "ChipMass-4          1\n",
      "WeakLiquorF         1\n",
      "BlackFlow-2         2\n",
      "WeakWashF           1\n",
      "SteamHeatF-3        2\n",
      "T-Top-Chips-4       1\n",
      "SulphidityL-4     151\n",
      "dtype: int64\n"
     ]
    }
   ],
   "source": [
    "# Checking for missing values\n",
    "print(df.isnull().sum())"
   ]
  },
  {
   "cell_type": "code",
   "execution_count": 26,
   "id": "dd4d78b3",
   "metadata": {},
   "outputs": [],
   "source": [
    "# Droping rows with missing values\n",
    "df = df.dropna()\n",
    "# input missing values with mean\n",
    "df = df.fillna(df.mean(numeric_only=True))"
   ]
  },
  {
   "cell_type": "code",
   "execution_count": 27,
   "id": "1703d418",
   "metadata": {},
   "outputs": [
    {
     "name": "stdout",
     "output_type": "stream",
     "text": [
      "Number of duplicates: 10\n"
     ]
    }
   ],
   "source": [
    "# checking for duplicates\n",
    "print(\"Number of duplicates:\", df.duplicated().sum())\n",
    "# Removing duplicates\n",
    "df = df.drop_duplicates()"
   ]
  },
  {
   "cell_type": "code",
   "execution_count": 28,
   "id": "cf45a95b",
   "metadata": {},
   "outputs": [
    {
     "name": "stdout",
     "output_type": "stream",
     "text": [
      "Number of outliers before removal: 131\n"
     ]
    }
   ],
   "source": [
    "# Identify outliers using z score \n",
    "z_scores = np.abs(zscore(df.select_dtypes(include=np.number)))\n",
    "print(\"Number of outliers before removal:\", len(df))\n",
    "df = df[(z_scores < 3).all(axis=1)]"
   ]
  },
  {
   "cell_type": "code",
   "execution_count": 33,
   "id": "93e7542d",
   "metadata": {},
   "outputs": [],
   "source": [
    "df.to_csv('C:/Users/DELL/Desktop/cleaned_dataset.csv', index=False)"
   ]
  }
 ],
 "metadata": {
  "kernelspec": {
   "display_name": "Python 3 (ipykernel)",
   "language": "python",
   "name": "python3"
  },
  "language_info": {
   "codemirror_mode": {
    "name": "ipython",
    "version": 3
   },
   "file_extension": ".py",
   "mimetype": "text/x-python",
   "name": "python",
   "nbconvert_exporter": "python",
   "pygments_lexer": "ipython3",
   "version": "3.11.4"
  }
 },
 "nbformat": 4,
 "nbformat_minor": 5
}
